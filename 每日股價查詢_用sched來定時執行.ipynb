{
 "cells": [
  {
   "cell_type": "code",
   "execution_count": 7,
   "metadata": {},
   "outputs": [],
   "source": [
    "from IPython.display import display, clear_output\n",
    "from urllib.request import urlopen\n",
    "import requests as req\n",
    "import pandas as pd\n",
    "from datetime import datetime\n",
    "import sched\n",
    "import time\n",
    "import json\n",
    "\n",
    "s = sched.scheduler(time.time, time.sleep)"
   ]
  },
  {
   "cell_type": "code",
   "execution_count": null,
   "metadata": {},
   "outputs": [],
   "source": [
    "def stock_table(stock_number_list):\n",
    "    \n",
    "    clear_output(wait=True)\n",
    "    \n",
    "    stock_num  = \"|\".join(\"tse_{}.tw\".format(i) for i in stock_number_list)\n",
    "    \n",
    "    url = \"http://mis.twse.com.tw/stock/api/getStockInfo.jsp?ex_ch=\" + stock_num \n",
    "    r = req.get(url)\n",
    "    info  = json.loads(r.text)\n",
    "    info = info[\"msgArray\"]\n",
    "    \n",
    "    info_index = ['c','n','z','tv','v','o','h','l','y']\n",
    "    columns = ['股票代號','公司簡稱','當盤成交價','當盤成交量','累積成交量','開盤價','最高價','最低價','昨收價']\n",
    "    \n",
    "    \n",
    "    stockinfo_table = pd.DataFrame(info, columns = info_index)\n",
    "    stockinfo_table.columns = columns\n",
    "    \n",
    "    stockinfo_table = stockinfo_table.astype({'當盤成交價': \"float\", '當盤成交量':\"int64\", '累積成交量':\"int64\", '開盤價':\"float\", '最高價':\"float\", '最低價':\"float\",'昨收價':\"float\"})\n",
    "    \n",
    "    stockinfo_table[\"漲跌幅\"] = (stockinfo_table[\"當盤成交價\"] - stockinfo_table[\"昨收價\"])/stockinfo_table[\"昨收價\"] * 100\n",
    "    \n",
    "    now = datetime.now()\n",
    "    \n",
    "    print(\"更新時間: \" + str(now.date()) +\" \"+ str(now.hour) + \":\" +str(now.minute) + \":\"+str(now.second))\n",
    "    \n",
    "    # 設定開始和結束時間\n",
    "    start_time = datetime.strptime(str(now.date()) +\" 9:30\", \"%Y-%m-%d %H:%M\")\n",
    "    end_time = datetime.strptime(str(now.date()) +\" 13:30\", \"%Y-%m-%d %H:%M\")\n",
    "    \n",
    "    s1 = stockinfo_table\n",
    "    s1.insert(0,\"公司\",s1[\"股票代號\"] + s1[\"公司簡稱\"])\n",
    "    s1 = s1.drop([\"股票代號\",\"公司簡稱\"],axis =1)\n",
    "    \n",
    "    s1 = s1.set_index(\"公司\")\n",
    "    \n",
    "    display(s1)\n",
    "    \n",
    "    if now > start_time and now < end_time:\n",
    "        s.enter(5,0, stock_table, argument=(stock_number_list,))"
   ]
  },
  {
   "cell_type": "code",
   "execution_count": null,
   "metadata": {},
   "outputs": [],
   "source": [
    "stock_list = ['1101','1102','1103','2330']\n",
    "\n",
    "# 每秒定時器\n",
    "s.enter(1, 0, stock_table, argument = (stock_list,))\n",
    "s.run()"
   ]
  },
  {
   "cell_type": "code",
   "execution_count": null,
   "metadata": {},
   "outputs": [],
   "source": [
    "# str轉換成datetime\n",
    "datetime.strptime(\"2020-02-14 15:30\", \"%Y-%m-%d %H:%M\")"
   ]
  },
  {
   "cell_type": "code",
   "execution_count": null,
   "metadata": {},
   "outputs": [],
   "source": [
    "#str轉換成datetime\n",
    "datetime.strftime(datetime.now(), \"%Y-%m-%d %H:%M:%S\")"
   ]
  },
  {
   "cell_type": "code",
   "execution_count": null,
   "metadata": {},
   "outputs": [],
   "source": []
  }
 ],
 "metadata": {
  "kernelspec": {
   "display_name": "Python 3",
   "language": "python",
   "name": "python3"
  },
  "language_info": {
   "codemirror_mode": {
    "name": "ipython",
    "version": 3
   },
   "file_extension": ".py",
   "mimetype": "text/x-python",
   "name": "python",
   "nbconvert_exporter": "python",
   "pygments_lexer": "ipython3",
   "version": "3.7.4"
  }
 },
 "nbformat": 4,
 "nbformat_minor": 2
}
