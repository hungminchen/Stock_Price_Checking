{
 "cells": [
  {
   "cell_type": "code",
   "execution_count": 13,
   "metadata": {},
   "outputs": [],
   "source": [
    "import requests as req\n",
    "from bs4 import BeautifulSoup\n",
    "from IPython.display import display\n",
    "import pandas as pd\n",
    "import json"
   ]
  },
  {
   "cell_type": "code",
   "execution_count": null,
   "metadata": {},
   "outputs": [],
   "source": [
    "#參考網站\n",
    "#https://mis.twse.com.tw/stock/index.jsp (基本市況報導網站)"
   ]
  },
  {
   "cell_type": "code",
   "execution_count": 14,
   "metadata": {},
   "outputs": [
    {
     "name": "stdout",
     "output_type": "stream",
     "text": [
      "please key in stock number: 2317\n"
     ]
    }
   ],
   "source": [
    "stock_num = input(\"please key in stock number: \")"
   ]
  },
  {
   "cell_type": "code",
   "execution_count": 15,
   "metadata": {},
   "outputs": [
    {
     "data": {
      "text/plain": [
       "{'ts': '0',\n",
       " 'fv': '293',\n",
       " 'tk0': '2317.tw_tse_20200212_B_9998936451',\n",
       " 'tk1': '2317.tw_tse_20200212_B_9998913988',\n",
       " 'oa': '85.30',\n",
       " 'ob': '85.20',\n",
       " 'tlong': '1581489000000',\n",
       " 'ot': '14:30:00',\n",
       " 'f': '1010_552_463_857_590_',\n",
       " 'ex': 'tse',\n",
       " 'g': '50_161_76_77_274_',\n",
       " 'ov': '168491',\n",
       " 'd': '20200212',\n",
       " 'it': '12',\n",
       " 'b': '85.40_85.30_85.20_85.10_85.00_',\n",
       " 'c': '2317',\n",
       " 'mt': '000000',\n",
       " 'a': '85.50_85.60_85.70_85.80_85.90_',\n",
       " 'n': '鴻海',\n",
       " 'o': '83.00',\n",
       " 'l': '83.00',\n",
       " 'oz': '85.30',\n",
       " 'h': '85.60',\n",
       " 'ip': '0',\n",
       " 'i': '31',\n",
       " 'w': '74.70',\n",
       " 'v': '55982',\n",
       " 'u': '91.10',\n",
       " 't': '13:30:00',\n",
       " 's': '6270',\n",
       " 'pz': '85.50',\n",
       " 'tv': '6270',\n",
       " 'p': '0',\n",
       " 'nf': '鴻海精密工業股份有限公司',\n",
       " 'ch': '2317.tw',\n",
       " 'z': '85.50',\n",
       " 'y': '82.90',\n",
       " 'ps': '6271'}"
      ]
     },
     "execution_count": 15,
     "metadata": {},
     "output_type": "execute_result"
    }
   ],
   "source": [
    "url = \"https://mis.twse.com.tw/stock/api/getStockInfo.jsp?ex_ch=tse_\" + stock_num + \".tw&json=1&delay=0&_=1581253418747\"\n",
    "\n",
    "r = req.get(url)\n",
    "info  = json.loads(r.text)\n",
    "info = info[\"msgArray\"][0]\n",
    "info"
   ]
  },
  {
   "cell_type": "code",
   "execution_count": 16,
   "metadata": {},
   "outputs": [
    {
     "data": {
      "text/plain": [
       "{'股票代號': '2317',\n",
       " '公司簡稱': '鴻海',\n",
       " '當盤成交價': '85.50',\n",
       " '當盤成交量': '6270',\n",
       " '累積成交量': '55982',\n",
       " '開盤價': '83.00',\n",
       " '最高價': '85.60',\n",
       " '最低價': '83.00',\n",
       " '昨收價': '82.90'}"
      ]
     },
     "execution_count": 16,
     "metadata": {},
     "output_type": "execute_result"
    }
   ],
   "source": [
    "info_index = ['c','n','z','tv','v','o','h','l','y']\n",
    "column = ['股票代號','公司簡稱','當盤成交價','當盤成交量','累積成交量','開盤價','最高價','最低價','昨收價']\n",
    "\n",
    "stock = {}\n",
    "\n",
    "for i in range(len(info_index)):\n",
    "    stock[column[i]] = info[info_index[i]]\n",
    "stock"
   ]
  },
  {
   "cell_type": "code",
   "execution_count": 17,
   "metadata": {},
   "outputs": [
    {
     "data": {
      "text/html": [
       "<div>\n",
       "<style scoped>\n",
       "    .dataframe tbody tr th:only-of-type {\n",
       "        vertical-align: middle;\n",
       "    }\n",
       "\n",
       "    .dataframe tbody tr th {\n",
       "        vertical-align: top;\n",
       "    }\n",
       "\n",
       "    .dataframe thead th {\n",
       "        text-align: right;\n",
       "    }\n",
       "</style>\n",
       "<table border=\"1\" class=\"dataframe\">\n",
       "  <thead>\n",
       "    <tr style=\"text-align: right;\">\n",
       "      <th></th>\n",
       "      <th>股票代號</th>\n",
       "      <th>公司簡稱</th>\n",
       "      <th>當盤成交價</th>\n",
       "      <th>當盤成交量</th>\n",
       "      <th>累積成交量</th>\n",
       "      <th>開盤價</th>\n",
       "      <th>最高價</th>\n",
       "      <th>最低價</th>\n",
       "      <th>昨收價</th>\n",
       "      <th>漲跌幅</th>\n",
       "    </tr>\n",
       "  </thead>\n",
       "  <tbody>\n",
       "    <tr>\n",
       "      <td>股票資訊</td>\n",
       "      <td>2317</td>\n",
       "      <td>鴻海</td>\n",
       "      <td>85.5</td>\n",
       "      <td>6270</td>\n",
       "      <td>55982</td>\n",
       "      <td>83.0</td>\n",
       "      <td>85.6</td>\n",
       "      <td>83.0</td>\n",
       "      <td>82.9</td>\n",
       "      <td>2.6</td>\n",
       "    </tr>\n",
       "  </tbody>\n",
       "</table>\n",
       "</div>"
      ],
      "text/plain": [
       "      股票代號 公司簡稱  當盤成交價  當盤成交量  累積成交量   開盤價   最高價   最低價   昨收價  漲跌幅\n",
       "股票資訊  2317   鴻海   85.5   6270  55982  83.0  85.6  83.0  82.9  2.6"
      ]
     },
     "execution_count": 17,
     "metadata": {},
     "output_type": "execute_result"
    }
   ],
   "source": [
    "stock_info = pd.DataFrame(stock, index = [\"股票資訊\"])\n",
    "stock_info = stock_info.astype({'當盤成交價': \"float\", '當盤成交量':\"int64\", '累積成交量':\"int64\", '開盤價':\"float\", '最高價':\"float\", '最低價':\"float\",'昨收價':\"float\"})\n",
    "\n",
    "stock_info[\"漲跌幅\"] = stock_info.loc[\"股票資訊\",\"當盤成交價\"] - stock_info.loc[\"股票資訊\",\"昨收價\"]\n",
    "stock_info"
   ]
  },
  {
   "cell_type": "code",
   "execution_count": 18,
   "metadata": {},
   "outputs": [],
   "source": [
    "#改變顯示顏色\n",
    "def tablecolor(value):\n",
    "    if value > 0:\n",
    "        color = \"red\"\n",
    "    elif value < 0:\n",
    "        color = \"green\"\n",
    "    else:\n",
    "        color = \"white\"\n",
    "    return \"color: {}\".format(color)"
   ]
  },
  {
   "cell_type": "code",
   "execution_count": 19,
   "metadata": {},
   "outputs": [
    {
     "data": {
      "text/html": [
       "<style  type=\"text/css\" >\n",
       "    #T_5742ee40_4daa_11ea_a635_88dd185fbe6frow0_col9 {\n",
       "            color:  red;\n",
       "        }</style><table id=\"T_5742ee40_4daa_11ea_a635_88dd185fbe6f\" ><thead>    <tr>        <th class=\"blank level0\" ></th>        <th class=\"col_heading level0 col0\" >股票代號</th>        <th class=\"col_heading level0 col1\" >公司簡稱</th>        <th class=\"col_heading level0 col2\" >當盤成交價</th>        <th class=\"col_heading level0 col3\" >當盤成交量</th>        <th class=\"col_heading level0 col4\" >累積成交量</th>        <th class=\"col_heading level0 col5\" >開盤價</th>        <th class=\"col_heading level0 col6\" >最高價</th>        <th class=\"col_heading level0 col7\" >最低價</th>        <th class=\"col_heading level0 col8\" >昨收價</th>        <th class=\"col_heading level0 col9\" >漲跌幅</th>    </tr></thead><tbody>\n",
       "                <tr>\n",
       "                        <th id=\"T_5742ee40_4daa_11ea_a635_88dd185fbe6flevel0_row0\" class=\"row_heading level0 row0\" >股票資訊</th>\n",
       "                        <td id=\"T_5742ee40_4daa_11ea_a635_88dd185fbe6frow0_col0\" class=\"data row0 col0\" >2317</td>\n",
       "                        <td id=\"T_5742ee40_4daa_11ea_a635_88dd185fbe6frow0_col1\" class=\"data row0 col1\" >鴻海</td>\n",
       "                        <td id=\"T_5742ee40_4daa_11ea_a635_88dd185fbe6frow0_col2\" class=\"data row0 col2\" >85.5</td>\n",
       "                        <td id=\"T_5742ee40_4daa_11ea_a635_88dd185fbe6frow0_col3\" class=\"data row0 col3\" >6270</td>\n",
       "                        <td id=\"T_5742ee40_4daa_11ea_a635_88dd185fbe6frow0_col4\" class=\"data row0 col4\" >55982</td>\n",
       "                        <td id=\"T_5742ee40_4daa_11ea_a635_88dd185fbe6frow0_col5\" class=\"data row0 col5\" >83</td>\n",
       "                        <td id=\"T_5742ee40_4daa_11ea_a635_88dd185fbe6frow0_col6\" class=\"data row0 col6\" >85.6</td>\n",
       "                        <td id=\"T_5742ee40_4daa_11ea_a635_88dd185fbe6frow0_col7\" class=\"data row0 col7\" >83</td>\n",
       "                        <td id=\"T_5742ee40_4daa_11ea_a635_88dd185fbe6frow0_col8\" class=\"data row0 col8\" >82.9</td>\n",
       "                        <td id=\"T_5742ee40_4daa_11ea_a635_88dd185fbe6frow0_col9\" class=\"data row0 col9\" >2.6</td>\n",
       "            </tr>\n",
       "    </tbody></table>"
      ],
      "text/plain": [
       "<pandas.io.formats.style.Styler at 0x2480f6448c8>"
      ]
     },
     "execution_count": 19,
     "metadata": {},
     "output_type": "execute_result"
    }
   ],
   "source": [
    "stock_info.style.applymap(tablecolor, subset=[\"漲跌幅\"])"
   ]
  },
  {
   "cell_type": "code",
   "execution_count": null,
   "metadata": {},
   "outputs": [],
   "source": []
  }
 ],
 "metadata": {
  "kernelspec": {
   "display_name": "Python 3",
   "language": "python",
   "name": "python3"
  },
  "language_info": {
   "codemirror_mode": {
    "name": "ipython",
    "version": 3
   },
   "file_extension": ".py",
   "mimetype": "text/x-python",
   "name": "python",
   "nbconvert_exporter": "python",
   "pygments_lexer": "ipython3",
   "version": "3.7.4"
  }
 },
 "nbformat": 4,
 "nbformat_minor": 2
}
